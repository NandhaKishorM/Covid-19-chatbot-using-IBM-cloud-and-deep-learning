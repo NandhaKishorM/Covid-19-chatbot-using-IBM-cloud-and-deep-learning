{
 "cells": [
  {
   "cell_type": "code",
   "execution_count": null,
   "metadata": {},
   "outputs": [],
   "source": [
    "import tkinter as tk\n",
    "from random import seed, choice\n",
    "from string import ascii_letters\n",
    "\n",
    "seed(42)\n",
    "\n",
    "colors = ('red', 'yellow', 'green', 'cyan', 'blue', 'magenta')\n",
    "def do_stuff():\n",
    "    s = ''.join([choice(ascii_letters) for i in range(10)])\n",
    "    color = choice(colors)\n",
    "    l.config(text=s, fg=color)\n",
    "    root.after(100, do_stuff)\n",
    "\n",
    "root = tk.Tk()\n",
    "root.wm_overrideredirect(True)\n",
    "root.geometry(\"{0}x{1}+0+0\".format(root.winfo_screenwidth(), root.winfo_screenheight()))\n",
    "root.bind(\"<Button-1>\", lambda evt: root.destroy())\n",
    "\n",
    "l = tk.Label(text='', font=(\"Helvetica\", 60))\n",
    "l.pack(expand=True)\n",
    "\n",
    "do_stuff()\n",
    "root.mainloop()"
   ]
  },
  {
   "cell_type": "markdown",
   "metadata": {},
   "source": []
  },
  {
   "cell_type": "code",
   "execution_count": null,
   "metadata": {},
   "outputs": [],
   "source": []
  },
  {
   "cell_type": "code",
   "execution_count": null,
   "metadata": {},
   "outputs": [],
   "source": []
  },
  {
   "cell_type": "code",
   "execution_count": null,
   "metadata": {},
   "outputs": [],
   "source": []
  }
 ],
 "metadata": {
  "kernelspec": {
   "display_name": "Python 3",
   "language": "python",
   "name": "python3"
  },
  "language_info": {
   "codemirror_mode": {
    "name": "ipython",
    "version": 3
   },
   "file_extension": ".py",
   "mimetype": "text/x-python",
   "name": "python",
   "nbconvert_exporter": "python",
   "pygments_lexer": "ipython3",
   "version": "3.7.7"
  }
 },
 "nbformat": 4,
 "nbformat_minor": 4
}
